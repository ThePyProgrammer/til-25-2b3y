{
 "cells": [
  {
   "cell_type": "markdown",
   "id": "15810faf",
   "metadata": {},
   "source": [
    "# Version Checks (System Dependent)"
   ]
  },
  {
   "cell_type": "markdown",
   "id": "a7ca3491-7c64-45ac-81fd-3f90203a4b10",
   "metadata": {},
   "source": [
    "Installation Scripts Prior to Running:\n",
    "\n",
    "```bash\n",
    "pip install torch torchvision torchaudio --index-url https://download.pytorch.org/whl/cu126\n",
    "sudo apt-get update && sudo apt-get install -y libsndfile1 ffmpeg\n",
    "pip install Cython packaging\n",
    "pip install nemo_toolkit['asr']\n",
    "pip install datasets\n",
    "```"
   ]
  },
  {
   "cell_type": "markdown",
   "id": "5870aa70",
   "metadata": {},
   "source": [
    "## Numba can detect CUDA"
   ]
  },
  {
   "cell_type": "code",
   "execution_count": 1,
   "id": "5e9c8405",
   "metadata": {},
   "outputs": [
    {
     "name": "stdout",
     "output_type": "stream",
     "text": [
      "True\n"
     ]
    }
   ],
   "source": [
    "from numba import cuda\n",
    "print(cuda.is_available())\n",
    "# Requires numpy 1.24 or greater"
   ]
  },
  {
   "cell_type": "markdown",
   "id": "77ed498c",
   "metadata": {},
   "source": [
    "## Numpy version oops"
   ]
  },
  {
   "cell_type": "code",
   "execution_count": 2,
   "id": "1334c7fe",
   "metadata": {},
   "outputs": [
    {
     "name": "stdout",
     "output_type": "stream",
     "text": [
      "1.26.4\n"
     ]
    }
   ],
   "source": [
    "import numpy\n",
    "print(numpy.__version__)"
   ]
  },
  {
   "cell_type": "markdown",
   "id": "d8a9db15",
   "metadata": {},
   "source": [
    "## Torch can detect CUDA"
   ]
  },
  {
   "cell_type": "code",
   "execution_count": 3,
   "id": "85d457b2",
   "metadata": {},
   "outputs": [
    {
     "name": "stdout",
     "output_type": "stream",
     "text": [
      "2.7.0+cu126\n",
      "True\n"
     ]
    }
   ],
   "source": [
    "import torch\n",
    "print(torch.__version__)\n",
    "print(torch.cuda.is_available())"
   ]
  },
  {
   "cell_type": "markdown",
   "id": "0b081afa",
   "metadata": {},
   "source": [
    "## Proper Nemo installations"
   ]
  },
  {
   "cell_type": "code",
   "execution_count": 4,
   "id": "48691da2",
   "metadata": {},
   "outputs": [
    {
     "name": "stdout",
     "output_type": "stream",
     "text": [
      "2.3.1\n"
     ]
    }
   ],
   "source": [
    "import nemo\n",
    "print(nemo.__version__)"
   ]
  },
  {
   "cell_type": "code",
   "execution_count": 5,
   "id": "619a762f",
   "metadata": {},
   "outputs": [],
   "source": [
    "import nemo.collections.asr as nemo_asr"
   ]
  },
  {
   "cell_type": "code",
   "execution_count": 6,
   "id": "f2c304ac",
   "metadata": {},
   "outputs": [],
   "source": [
    "!export CUDA_VISIBLE_DEVICES=1"
   ]
  },
  {
   "cell_type": "markdown",
   "id": "44f4e5a8",
   "metadata": {},
   "source": [
    "# Starts"
   ]
  },
  {
   "cell_type": "code",
   "execution_count": 7,
   "id": "65770991-74d0-4a1f-bfa1-215e388ad9b1",
   "metadata": {},
   "outputs": [],
   "source": [
    "from datasets import load_dataset\n",
    "\n",
    "# Login using e.g. `huggingface-cli login` to access this dataset\n",
    "ds = load_dataset(\"ThePyProgrammer/asr\")"
   ]
  },
  {
   "cell_type": "code",
   "execution_count": 8,
   "id": "fc1561d2",
   "metadata": {},
   "outputs": [
    {
     "name": "stdout",
     "output_type": "stream",
     "text": [
      "PyTorch CUDA available: True CUDA version: 12.6\n"
     ]
    }
   ],
   "source": [
    "import torch\n",
    "import os\n",
    "import json\n",
    "import librosa\n",
    "import glob\n",
    "import subprocess\n",
    "import nemo.collections.asr as nemo_asr\n",
    "from omegaconf import OmegaConf, DictConfig\n",
    "from nemo.core.config import hydra_runner\n",
    "from nemo.utils import logging\n",
    "from nemo.utils.exp_manager import exp_manager\n",
    "\n",
    "import lightning.pytorch as pl\n",
    "# Correct import\n",
    "from lightning.pytorch import Trainer\n",
    "from lightning.pytorch.callbacks import ModelCheckpoint, EarlyStopping\n",
    "from lightning.pytorch.loggers import TensorBoardLogger\n",
    "\n",
    "print(\"PyTorch CUDA available:\", torch.cuda.is_available(), \"CUDA version:\", torch.version.cuda)\n",
    "\n",
    "# Download and prepare AN4 data (same as before)\n",
    "DATA_DIR = os.getcwd() + \"/files/\"\n",
    "os.environ[\"DATA_DIR\"] = DATA_DIR\n"
   ]
  },
  {
   "cell_type": "code",
   "execution_count": 9,
   "id": "f120831f",
   "metadata": {},
   "outputs": [],
   "source": [
    "# if not os.path.exists(f\"{DATA_DIR}/an4_sphere.tar.gz\"):\n",
    "#     !wget https://dldata-public.s3.us-east-2.amazonaws.com/an4_sphere.tar.gz\n",
    "\n",
    "# # Extract and convert data\n",
    "# if not os.path.exists(f\"{DATA_DIR}/an4\"):\n",
    "#     !tar -xvf an4_sphere.tar.gz\n",
    "    \n",
    "#     !mv an4 $DATA_DIR"
   ]
  },
  {
   "cell_type": "code",
   "execution_count": 10,
   "id": "f51d8719-1e2e-4283-ad49-627b3c63e239",
   "metadata": {},
   "outputs": [
    {
     "data": {
      "application/vnd.jupyter.widget-view+json": {
       "model_id": "754cb16aef6647a497a2d3e182d1bc65",
       "version_major": 2,
       "version_minor": 0
      },
      "text/plain": [
       "Fetching 10 files:   0%|          | 0/10 [00:00<?, ?it/s]"
      ]
     },
     "metadata": {},
     "output_type": "display_data"
    }
   ],
   "source": [
    "from huggingface_hub import snapshot_download\n",
    "\n",
    "directory = snapshot_download(repo_id=\"ThePyProgrammer/asr\", repo_type=\"dataset\")"
   ]
  },
  {
   "cell_type": "code",
   "execution_count": 11,
   "id": "e15ad265-3609-4e0b-adad-d7f656c7724b",
   "metadata": {},
   "outputs": [],
   "source": [
    "!rm -r files/\n",
    "!mkdir files/"
   ]
  },
  {
   "cell_type": "code",
   "execution_count": 12,
   "id": "d66f595b-2688-4d5a-be1d-b1a1996cb7cb",
   "metadata": {},
   "outputs": [],
   "source": [
    "import pyarrow.parquet as pq\n",
    "j = 0\n",
    "transcript = []\n",
    "for i in range(8):\n",
    "    df = pq.read_table(f'{directory}/data/train-0000{i}-of-00008.parquet').to_pandas()\n",
    "    transcript += df['transcript'].to_list()\n",
    "    for _, k in df['audio'].items():\n",
    "        res = k['bytes']\n",
    "        with open(f'files/{j}.wav', mode='bx') as f:\n",
    "            f.write(res)\n",
    "        j += 1"
   ]
  },
  {
   "cell_type": "code",
   "execution_count": 13,
   "id": "5864770f",
   "metadata": {},
   "outputs": [
    {
     "name": "stderr",
     "output_type": "stream",
     "text": [
      "100%|████████████████████████████████████████████████████████████████████████████████████████████| 4500/4500 [06:01<00:00, 12.43it/s]\n",
      "100%|██████████████████████████████████████████████████████████████████████████████████████████████████| 8/8 [00:00<00:00, 17.87it/s]\n"
     ]
    },
    {
     "data": {
      "text/plain": [
       "(73.038375, 1.33225)"
      ]
     },
     "execution_count": 13,
     "metadata": {},
     "output_type": "execute_result"
    }
   ],
   "source": [
    "from tqdm import tqdm\n",
    "def an4_build_manifest(trans_array, manifest_path, target_wavs_dir):\n",
    "    \"\"\"Build an AN4 manifest from a given transcript file.\"\"\"\n",
    "    maxi, mini = -1, 1000\n",
    "    with open(manifest_path, 'w') as fout:\n",
    "        for idx, line in enumerate(tqdm(trans_array)):\n",
    "            trans = line\n",
    "            audio_path = os.path.join(target_wavs_dir, str(idx) + '.wav')\n",
    "            duration = librosa.core.get_duration(filename=audio_path)\n",
    "            if maxi < duration: \n",
    "                maxi = duration\n",
    "            if mini > duration:\n",
    "                mini = duration\n",
    "            metadata = {\"audio_filepath\": audio_path, \"duration\": duration, \"text\": trans}\n",
    "            json.dump(metadata, fout)\n",
    "            fout.write('\\n')\n",
    "    return maxi, mini\n",
    "\n",
    "# Convert data and build manifests\n",
    "source_data_dir = f\"{DATA_DIR}\"\n",
    "target_data_dir = f\"{DATA_DIR}\"\n",
    "    \n",
    "# Build AN4 manifests\n",
    "train_manifest = os.path.join(DATA_DIR, 'train_manifest.json')\n",
    "maxi, mini = an4_build_manifest(transcript, train_manifest, DATA_DIR)\n",
    "\n",
    "test_manifest = os.path.join(DATA_DIR, 'test_manifest.json')\n",
    "an4_build_manifest(transcript[:8], test_manifest, DATA_DIR)\n",
    "\n",
    "maxi, mini"
   ]
  },
  {
   "cell_type": "code",
   "execution_count": 22,
   "id": "68915358-0bf8-4144-8584-166a0a21f77d",
   "metadata": {},
   "outputs": [],
   "source": [
    "import argparse\n",
    "import os\n",
    "from huggingface_hub import snapshot_download\n",
    "\n",
    "\n",
    "def download_model(model_name, path, revision=\"main\", local_dir_name=None):\n",
    "    \"\"\"\n",
    "    Download a model from HuggingFace Hub.\n",
    "\n",
    "    Args:\n",
    "        model_name (str): Name of the model to download (e.g., facebook/wav2vec2-base-960h)\n",
    "        path (str): Path where the model will be downloaded\n",
    "        revision (str): Specific model revision to download\n",
    "        local_dir_name (str, optional): Custom directory name for the downloaded model\n",
    "\n",
    "    Returns:\n",
    "        Path to the downloaded model\n",
    "    \"\"\"\n",
    "    # Create the directory if it doesn't exist\n",
    "    os.makedirs(path, exist_ok=True)\n",
    "\n",
    "    # Set the local directory name\n",
    "    if local_dir_name is None:\n",
    "        # Use the last part of the model name as directory name\n",
    "        # e.g., facebook/wav2vec2-base-960h -> wav2vec2-base-960h\n",
    "        local_dir_name = model_name.split('/')[-1]\n",
    "\n",
    "    local_dir = os.path.join(path, local_dir_name)\n",
    "\n",
    "    print(f\"Downloading model '{model_name}' (revision: {revision})...\")\n",
    "    print(f\"Target directory: {local_dir}\")\n",
    "\n",
    "    try:\n",
    "        # Download the model\n",
    "        model_path = snapshot_download(\n",
    "            repo_id=model_name,\n",
    "            revision=revision,\n",
    "            local_dir=local_dir,\n",
    "            ignore_patterns=[\"*.msgpack\", \"*.safetensors\", \"*.h5\", \"*.ot\", \"*.tflite\"]\n",
    "        )\n",
    "        print(f\"Successfully downloaded model to {model_path}\")\n",
    "        return model_path\n",
    "    except Exception as e:\n",
    "        print(f\"Error downloading model: {e}\")\n",
    "        return None\n",
    "\n"
   ]
  },
  {
   "cell_type": "code",
   "execution_count": 23,
   "id": "2f36f140-05f5-4dca-83ca-9df9c9a7c62c",
   "metadata": {},
   "outputs": [
    {
     "name": "stdout",
     "output_type": "stream",
     "text": [
      "Downloading model 'nvidia/parakeet-tdt-0.6b-v2' (revision: main)...\n",
      "Target directory: ./parakeet-tdt-0.6b-v2\n"
     ]
    },
    {
     "data": {
      "application/vnd.jupyter.widget-view+json": {
       "model_id": "2462aab562d64bf09151b269aa907261",
       "version_major": 2,
       "version_minor": 0
      },
      "text/plain": [
       "Fetching 3 files:   0%|          | 0/3 [00:00<?, ?it/s]"
      ]
     },
     "metadata": {},
     "output_type": "display_data"
    },
    {
     "name": "stdout",
     "output_type": "stream",
     "text": [
      "Successfully downloaded model to /home/raid/cognition/til/asr/notebooks/parakeet-tdt-0.6b-v2\n"
     ]
    },
    {
     "data": {
      "text/plain": [
       "'/home/raid/cognition/til/asr/notebooks/parakeet-tdt-0.6b-v2'"
      ]
     },
     "execution_count": 23,
     "metadata": {},
     "output_type": "execute_result"
    }
   ],
   "source": [
    "download_model('nvidia/parakeet-tdt-0.6b-v2', './')"
   ]
  }
 ],
 "metadata": {
  "kaggle": {
   "accelerator": "gpu",
   "dataSources": [],
   "dockerImageVersionId": 31041,
   "isGpuEnabled": true,
   "isInternetEnabled": true,
   "language": "python",
   "sourceType": "notebook"
  },
  "kernelspec": {
   "display_name": "Python 3 (ipykernel)",
   "language": "python",
   "name": "python3"
  },
  "language_info": {
   "codemirror_mode": {
    "name": "ipython",
    "version": 3
   },
   "file_extension": ".py",
   "mimetype": "text/x-python",
   "name": "python",
   "nbconvert_exporter": "python",
   "pygments_lexer": "ipython3",
   "version": "3.11.8"
  }
 },
 "nbformat": 4,
 "nbformat_minor": 5
}
