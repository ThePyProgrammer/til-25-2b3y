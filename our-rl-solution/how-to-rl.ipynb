{
 "cells": [
  {
   "cell_type": "code",
   "execution_count": 3,
   "id": "cb80179d-9d62-4cf8-a7c3-733280954044",
   "metadata": {},
   "outputs": [],
   "source": [
    "import os\n",
    "import sys\n",
    "import pathlib\n",
    "\n",
    "sys.path.append(str(pathlib.Path(os.getcwd()).parent.resolve() / \"til-25-environment\"))"
   ]
  },
  {
   "cell_type": "code",
   "execution_count": 5,
   "id": "9bfa2f3d-8671-414c-a8cb-3ec3c1e7f517",
   "metadata": {},
   "outputs": [],
   "source": [
    "from til_environment import gridworld"
   ]
  },
  {
   "cell_type": "code",
   "execution_count": null,
   "id": "99f11d30-cdf5-4282-8c8e-4f9297b0daba",
   "metadata": {},
   "outputs": [],
   "source": []
  },
  {
   "cell_type": "code",
   "execution_count": 4,
   "id": "716489ae-4868-49d7-b980-b261abc3077a",
   "metadata": {},
   "outputs": [],
   "source": []
  },
  {
   "cell_type": "code",
   "execution_count": 13,
   "id": "5f442f2c-3b7a-4b86-97f6-8d733439ee4a",
   "metadata": {},
   "outputs": [],
   "source": [
    "env = gridworld.env(\n",
    "    env_wrappers=[],  # clear out default env wrappers\n",
    "    render_mode=\"human\",  # Render the map\n",
    "    debug=True,  # Enable debug mode\n",
    "    novice=True,  # Use same map layout every time (for Novice teams only)\n",
    ")\n",
    "env.reset(seed=42)"
   ]
  },
  {
   "cell_type": "code",
   "execution_count": 8,
   "id": "b9b606b2-606d-4cd3-aa48-787f0892e384",
   "metadata": {},
   "outputs": [
    {
     "data": {
      "text/plain": [
       "<pettingzoo.utils.wrappers.order_enforcing.OrderEnforcingWrapper at 0x22cacf169f0>"
      ]
     },
     "execution_count": 8,
     "metadata": {},
     "output_type": "execute_result"
    }
   ],
   "source": [
    "env"
   ]
  },
  {
   "cell_type": "code",
   "execution_count": 14,
   "id": "d01d6c71-e623-4f24-92f3-4854043ae1f2",
   "metadata": {},
   "outputs": [
    {
     "data": {
      "text/plain": [
       "({'viewcone': array([[ 67,   2,  98,   0,   0],\n",
       "         [131,   2,  35,   0,   0],\n",
       "         [146,  18,  54,   0,   0],\n",
       "         [  0,   0,   0,   0,   0],\n",
       "         [  0,   0,   0,   0,   0],\n",
       "         [  0,   0,   0,   0,   0],\n",
       "         [  0,   0,   0,   0,   0]], dtype=uint8),\n",
       "  'direction': 2,\n",
       "  'location': array([0, 0], dtype=int64),\n",
       "  'scout': 1,\n",
       "  'step': 0},\n",
       " 0,\n",
       " False,\n",
       " False,\n",
       " {})"
      ]
     },
     "execution_count": 14,
     "metadata": {},
     "output_type": "execute_result"
    }
   ],
   "source": [
    "env.last()"
   ]
  },
  {
   "cell_type": "code",
   "execution_count": 9,
   "id": "b1d19cb2-7e8d-49ad-b37c-e5d284b43865",
   "metadata": {},
   "outputs": [],
   "source": [
    "for agent in env.agent_iter():\n",
    "    observation, reward, termination, truncation, info = env.last()\n",
    "\n",
    "    if termination or truncation:\n",
    "        break\n",
    "    else:\n",
    "        # Insert your policy here\n",
    "        action = env.action_space(agent).sample()\n",
    "\n",
    "    env.step(action)\n",
    "\n",
    "env.close()"
   ]
  },
  {
   "cell_type": "code",
   "execution_count": 10,
   "id": "ad7733a9-db5a-44a7-b77d-ae9bc0c4bfd2",
   "metadata": {},
   "outputs": [
    {
     "data": {
      "text/plain": [
       "3"
      ]
     },
     "execution_count": 10,
     "metadata": {},
     "output_type": "execute_result"
    }
   ],
   "source": [
    "action"
   ]
  },
  {
   "cell_type": "code",
   "execution_count": 12,
   "id": "18e7da9b-803c-4824-a8cf-cd4fd003456b",
   "metadata": {},
   "outputs": [
    {
     "data": {
      "text/plain": [
       "({'viewcone': array([[193,  65,  33,   0,  99],\n",
       "         [129,   1,   2,  66,   0],\n",
       "         [145,  17,  53,   0,   0],\n",
       "         [  0,   0,   0,   0,   0],\n",
       "         [  0,   0,   0,   0,   0],\n",
       "         [  0,   0,   0,   0,   0],\n",
       "         [  0,   0,   0,   0,   0]], dtype=uint8),\n",
       "  'direction': 3,\n",
       "  'location': array([2, 0], dtype=int64),\n",
       "  'scout': 1,\n",
       "  'step': 100},\n",
       " 0,\n",
       " False,\n",
       " True,\n",
       " {'distance': 0.0, 'manhattan': 0})"
      ]
     },
     "execution_count": 12,
     "metadata": {},
     "output_type": "execute_result"
    }
   ],
   "source": [
    "observation, reward, termination, truncation, info"
   ]
  },
  {
   "cell_type": "code",
   "execution_count": 11,
   "id": "220f3b01-9e11-4278-948f-aa6224005815",
   "metadata": {},
   "outputs": [
    {
     "data": {
      "text/plain": [
       "'player_0'"
      ]
     },
     "execution_count": 11,
     "metadata": {},
     "output_type": "execute_result"
    }
   ],
   "source": [
    "agent"
   ]
  },
  {
   "cell_type": "code",
   "execution_count": null,
   "id": "498d1133-b55c-470f-81f5-0e877cb94366",
   "metadata": {},
   "outputs": [],
   "source": []
  }
 ],
 "metadata": {
  "kernelspec": {
   "display_name": "Python 3 (ipykernel)",
   "language": "python",
   "name": "python3"
  },
  "language_info": {
   "codemirror_mode": {
    "name": "ipython",
    "version": 3
   },
   "file_extension": ".py",
   "mimetype": "text/x-python",
   "name": "python",
   "nbconvert_exporter": "python",
   "pygments_lexer": "ipython3",
   "version": "3.12.9"
  }
 },
 "nbformat": 4,
 "nbformat_minor": 5
}
